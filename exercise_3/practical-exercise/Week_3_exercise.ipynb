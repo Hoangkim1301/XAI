{
 "cells": [
  {
   "cell_type": "markdown",
   "id": "0ed045d8-5486-42f5-b0fd-5333fcc2fb9a",
   "metadata": {},
   "source": [
    "# Week 2: Feature Attribution: Occlusion technique and LIME\n",
    "Author: Van Bach Nguyen, licensed under the Creative Commons Attribution 3.0 Unported License https://creativecommons.org/licenses/by/3.0/  \n",
    "Based on: https://github.com/marcotcr/lime"
   ]
  },
  {
   "cell_type": "markdown",
   "id": "f66c40e0-4099-466c-b8b5-032c2323083c",
   "metadata": {},
   "source": [
    "# Table of contents\n",
    "- [Exercise 1: Occlusion Technique](#Ex1)  \n",
    "    - [Exercise 1.1](#Ex11)  \n",
    "    - [Exercise 1.2](#Ex12)  \n",
    "    - [Exercise 1.3](#Ex13)  \n",
    "- [Exercise 2: LIME ](#Ex2)  \n",
    "    - [Exercise 2.1](#Ex21)  \n",
    "    - [Exercise 2.2](#Ex22)  \n",
    "    - [Exercise 2.3](#Ex23)  "
   ]
  },
  {
   "cell_type": "markdown",
   "id": "87b2f2d5-65c6-461b-8f03-4931bd76d610",
   "metadata": {},
   "source": [
    "# Exercise 1: Occlusion Technique <a name=\"Ex1\"></a>\n",
    "**Description:**  In this exercise, we will practice the occlusion technique on the MNIST dataset. You can either use your own model from the previous week or create a new one by running the code below.\n",
    "\n",
    "**Goal:** To practice occlusion technique on image data.\n",
    "\n",
    "**Task:** Occlude a part of an image and check for changes in prediction. Interprete the results.\n",
    "\n",
    "**Note:** Your results, interpretation, and comments on the results are more important for evaluating the exercises than your code.\n"
   ]
  },
  {
   "cell_type": "markdown",
   "id": "cc293687-2b66-454f-a228-3e6696b9c872",
   "metadata": {},
   "source": [
    "#### Load and preprocess data"
   ]
  },
  {
   "cell_type": "code",
   "execution_count": 1,
   "id": "6906da23-52af-4247-aead-40d4ed464483",
   "metadata": {},
   "outputs": [],
   "source": [
    "# Import necessary libraries\n",
    "from sklearn.datasets import fetch_openml\n",
    "from sklearn.model_selection import train_test_split\n",
    "from sklearn.metrics import accuracy_score\n",
    "from sklearn.pipeline import Pipeline\n",
    "from sklearn.neural_network import MLPClassifier\n",
    "import numpy as np\n",
    "import matplotlib.pyplot as plt\n",
    "from skimage.color import gray2rgb, rgb2gray, label2rgb \n",
    "import warnings\n",
    "warnings.filterwarnings(\"ignore\")\n",
    "\n",
    "# Load the MNIST dataset from scikit-learn (or you can download it from other sources)\n",
    "mnist = fetch_openml('mnist_784')\n",
    "X = mnist.data\n",
    "y = mnist.target\n",
    "#convert image to rgb (for later purpose)\n",
    "X_vec = np.stack([gray2rgb(iimg) for iimg in np.array(mnist.data).reshape((-1, 28, 28))],0).astype(np.uint8)\n",
    "y_vec = mnist.target.astype(np.uint8)\n",
    "#Split data\n",
    "X_train, X_test, y_train, y_test = train_test_split(X_vec, y_vec, test_size=0.2, random_state=42)"
   ]
  },
  {
   "cell_type": "markdown",
   "id": "632b1f86-ccfd-4247-b830-3ebd4256dce4",
   "metadata": {},
   "source": [
    "#### Create and train model\n",
    "**Note:** You can replace this part by loading your own model from previous exercise using [*pickle*](https://docs.python.org/3/library/pickle.html)"
   ]
  },
  {
   "cell_type": "code",
   "execution_count": 2,
   "id": "ae30e790-ad8d-4e85-a2aa-59b187c07043",
   "metadata": {},
   "outputs": [],
   "source": [
    "class PipeStep(object):\n",
    "    \"\"\"\n",
    "    Wrapper for turning functions into pipeline transforms (no-fitting)\n",
    "    \"\"\"\n",
    "    def __init__(self, step_func):\n",
    "        self._step_func=step_func\n",
    "    def fit(self,*args):\n",
    "        return self\n",
    "    def transform(self,X):\n",
    "        return self._step_func(X)\n",
    "\n",
    "\n",
    "makegray_step = PipeStep(lambda img_list: [rgb2gray(img) for img in img_list])\n",
    "flatten_step = PipeStep(lambda img_list: [img.ravel() for img in img_list])\n",
    "\n",
    "clf = Pipeline([\n",
    "    ('Make Gray', makegray_step),\n",
    "    ('Flatten Image', flatten_step),\n",
    "    ('MLP', MLPClassifier(random_state=1, max_iter=300))\n",
    "    ])"
   ]
  },
  {
   "cell_type": "markdown",
   "id": "009f4801-b252-45d0-960c-f4dbdece14ac",
   "metadata": {},
   "source": [
    "**Comment:** We use neural network(MLPClassifier) as a model."
   ]
  },
  {
   "cell_type": "markdown",
   "id": "44abfaff-8cda-48ad-8fea-22ab51052478",
   "metadata": {},
   "source": [
    "**Train the model**  \n",
    "The process would take a while."
   ]
  },
  {
   "cell_type": "code",
   "execution_count": 3,
   "id": "4de57356-dbae-4419-905b-22c378ff18a3",
   "metadata": {},
   "outputs": [
    {
     "data": {
      "text/html": [
       "<style>#sk-container-id-1 {color: black;background-color: white;}#sk-container-id-1 pre{padding: 0;}#sk-container-id-1 div.sk-toggleable {background-color: white;}#sk-container-id-1 label.sk-toggleable__label {cursor: pointer;display: block;width: 100%;margin-bottom: 0;padding: 0.3em;box-sizing: border-box;text-align: center;}#sk-container-id-1 label.sk-toggleable__label-arrow:before {content: \"▸\";float: left;margin-right: 0.25em;color: #696969;}#sk-container-id-1 label.sk-toggleable__label-arrow:hover:before {color: black;}#sk-container-id-1 div.sk-estimator:hover label.sk-toggleable__label-arrow:before {color: black;}#sk-container-id-1 div.sk-toggleable__content {max-height: 0;max-width: 0;overflow: hidden;text-align: left;background-color: #f0f8ff;}#sk-container-id-1 div.sk-toggleable__content pre {margin: 0.2em;color: black;border-radius: 0.25em;background-color: #f0f8ff;}#sk-container-id-1 input.sk-toggleable__control:checked~div.sk-toggleable__content {max-height: 200px;max-width: 100%;overflow: auto;}#sk-container-id-1 input.sk-toggleable__control:checked~label.sk-toggleable__label-arrow:before {content: \"▾\";}#sk-container-id-1 div.sk-estimator input.sk-toggleable__control:checked~label.sk-toggleable__label {background-color: #d4ebff;}#sk-container-id-1 div.sk-label input.sk-toggleable__control:checked~label.sk-toggleable__label {background-color: #d4ebff;}#sk-container-id-1 input.sk-hidden--visually {border: 0;clip: rect(1px 1px 1px 1px);clip: rect(1px, 1px, 1px, 1px);height: 1px;margin: -1px;overflow: hidden;padding: 0;position: absolute;width: 1px;}#sk-container-id-1 div.sk-estimator {font-family: monospace;background-color: #f0f8ff;border: 1px dotted black;border-radius: 0.25em;box-sizing: border-box;margin-bottom: 0.5em;}#sk-container-id-1 div.sk-estimator:hover {background-color: #d4ebff;}#sk-container-id-1 div.sk-parallel-item::after {content: \"\";width: 100%;border-bottom: 1px solid gray;flex-grow: 1;}#sk-container-id-1 div.sk-label:hover label.sk-toggleable__label {background-color: #d4ebff;}#sk-container-id-1 div.sk-serial::before {content: \"\";position: absolute;border-left: 1px solid gray;box-sizing: border-box;top: 0;bottom: 0;left: 50%;z-index: 0;}#sk-container-id-1 div.sk-serial {display: flex;flex-direction: column;align-items: center;background-color: white;padding-right: 0.2em;padding-left: 0.2em;position: relative;}#sk-container-id-1 div.sk-item {position: relative;z-index: 1;}#sk-container-id-1 div.sk-parallel {display: flex;align-items: stretch;justify-content: center;background-color: white;position: relative;}#sk-container-id-1 div.sk-item::before, #sk-container-id-1 div.sk-parallel-item::before {content: \"\";position: absolute;border-left: 1px solid gray;box-sizing: border-box;top: 0;bottom: 0;left: 50%;z-index: -1;}#sk-container-id-1 div.sk-parallel-item {display: flex;flex-direction: column;z-index: 1;position: relative;background-color: white;}#sk-container-id-1 div.sk-parallel-item:first-child::after {align-self: flex-end;width: 50%;}#sk-container-id-1 div.sk-parallel-item:last-child::after {align-self: flex-start;width: 50%;}#sk-container-id-1 div.sk-parallel-item:only-child::after {width: 0;}#sk-container-id-1 div.sk-dashed-wrapped {border: 1px dashed gray;margin: 0 0.4em 0.5em 0.4em;box-sizing: border-box;padding-bottom: 0.4em;background-color: white;}#sk-container-id-1 div.sk-label label {font-family: monospace;font-weight: bold;display: inline-block;line-height: 1.2em;}#sk-container-id-1 div.sk-label-container {text-align: center;}#sk-container-id-1 div.sk-container {/* jupyter's `normalize.less` sets `[hidden] { display: none; }` but bootstrap.min.css set `[hidden] { display: none !important; }` so we also need the `!important` here to be able to override the default hidden behavior on the sphinx rendered scikit-learn.org. See: https://github.com/scikit-learn/scikit-learn/issues/21755 */display: inline-block !important;position: relative;}#sk-container-id-1 div.sk-text-repr-fallback {display: none;}</style><div id=\"sk-container-id-1\" class=\"sk-top-container\"><div class=\"sk-text-repr-fallback\"><pre>Pipeline(steps=[(&#x27;Make Gray&#x27;, &lt;__main__.PipeStep object at 0x000001C1DFE4C3A0&gt;),\n",
       "                (&#x27;Flatten Image&#x27;,\n",
       "                 &lt;__main__.PipeStep object at 0x000001C1DFE4CFD0&gt;),\n",
       "                (&#x27;MLP&#x27;, MLPClassifier(max_iter=300, random_state=1))])</pre><b>In a Jupyter environment, please rerun this cell to show the HTML representation or trust the notebook. <br />On GitHub, the HTML representation is unable to render, please try loading this page with nbviewer.org.</b></div><div class=\"sk-container\" hidden><div class=\"sk-item sk-dashed-wrapped\"><div class=\"sk-label-container\"><div class=\"sk-label sk-toggleable\"><input class=\"sk-toggleable__control sk-hidden--visually\" id=\"sk-estimator-id-1\" type=\"checkbox\" ><label for=\"sk-estimator-id-1\" class=\"sk-toggleable__label sk-toggleable__label-arrow\">Pipeline</label><div class=\"sk-toggleable__content\"><pre>Pipeline(steps=[(&#x27;Make Gray&#x27;, &lt;__main__.PipeStep object at 0x000001C1DFE4C3A0&gt;),\n",
       "                (&#x27;Flatten Image&#x27;,\n",
       "                 &lt;__main__.PipeStep object at 0x000001C1DFE4CFD0&gt;),\n",
       "                (&#x27;MLP&#x27;, MLPClassifier(max_iter=300, random_state=1))])</pre></div></div></div><div class=\"sk-serial\"><div class=\"sk-item\"><div class=\"sk-estimator sk-toggleable\"><input class=\"sk-toggleable__control sk-hidden--visually\" id=\"sk-estimator-id-2\" type=\"checkbox\" ><label for=\"sk-estimator-id-2\" class=\"sk-toggleable__label sk-toggleable__label-arrow\">PipeStep</label><div class=\"sk-toggleable__content\"><pre>&lt;__main__.PipeStep object at 0x000001C1DFE4C3A0&gt;</pre></div></div></div><div class=\"sk-item\"><div class=\"sk-estimator sk-toggleable\"><input class=\"sk-toggleable__control sk-hidden--visually\" id=\"sk-estimator-id-3\" type=\"checkbox\" ><label for=\"sk-estimator-id-3\" class=\"sk-toggleable__label sk-toggleable__label-arrow\">PipeStep</label><div class=\"sk-toggleable__content\"><pre>&lt;__main__.PipeStep object at 0x000001C1DFE4CFD0&gt;</pre></div></div></div><div class=\"sk-item\"><div class=\"sk-estimator sk-toggleable\"><input class=\"sk-toggleable__control sk-hidden--visually\" id=\"sk-estimator-id-4\" type=\"checkbox\" ><label for=\"sk-estimator-id-4\" class=\"sk-toggleable__label sk-toggleable__label-arrow\">MLPClassifier</label><div class=\"sk-toggleable__content\"><pre>MLPClassifier(max_iter=300, random_state=1)</pre></div></div></div></div></div></div></div>"
      ],
      "text/plain": [
       "Pipeline(steps=[('Make Gray', <__main__.PipeStep object at 0x000001C1DFE4C3A0>),\n",
       "                ('Flatten Image',\n",
       "                 <__main__.PipeStep object at 0x000001C1DFE4CFD0>),\n",
       "                ('MLP', MLPClassifier(max_iter=300, random_state=1))])"
      ]
     },
     "execution_count": 3,
     "metadata": {},
     "output_type": "execute_result"
    }
   ],
   "source": [
    "clf.fit(X_train,y_train)"
   ]
  },
  {
   "cell_type": "markdown",
   "id": "e480e98f-f4ce-4875-bfcb-b0e171deaae2",
   "metadata": {},
   "source": [
    "**Check the accuracy of the model on the test set**"
   ]
  },
  {
   "cell_type": "code",
   "execution_count": 4,
   "id": "42e30fd4-478c-4433-bf35-492c8b6a08e5",
   "metadata": {},
   "outputs": [
    {
     "data": {
      "text/plain": [
       "0.9770714285714286"
      ]
     },
     "execution_count": 4,
     "metadata": {},
     "output_type": "execute_result"
    }
   ],
   "source": [
    "clf.score(X_test, y_test)"
   ]
  },
  {
   "cell_type": "markdown",
   "id": "06c57d10-7b47-42f8-b107-5ec5042791f1",
   "metadata": {},
   "source": [
    "**Comment:** good accuracy!"
   ]
  },
  {
   "cell_type": "markdown",
   "id": "363c39d9-920e-4ed2-ac57-04094b2ea4e2",
   "metadata": {},
   "source": [
    "#### Visualize a test point and check the prediction of the model"
   ]
  },
  {
   "cell_type": "code",
   "execution_count": 28,
   "id": "8c38b324-b7a3-4f85-93da-7d84f4df01d0",
   "metadata": {},
   "outputs": [
    {
     "data": {
      "text/plain": [
       "<matplotlib.image.AxesImage at 0x1c1e72ace50>"
      ]
     },
     "execution_count": 28,
     "metadata": {},
     "output_type": "execute_result"
    },
    {
     "data": {
      "image/png": "[encoded data removed]",
      "text/plain": [
       "<Figure size 640x480 with 1 Axes>"
      ]
     },
     "metadata": {},
     "output_type": "display_data"
    }
   ],
   "source": [
    "image_index = 8 \n",
    "plt.imshow(np.array(X_test[3]))\n"
   ]
  },
  {
   "cell_type": "code",
   "execution_count": 29,
   "id": "ea4d8ac2-8124-47a7-99f0-da9664b380d6",
   "metadata": {},
   "outputs": [
    {
     "name": "stdout",
     "output_type": "stream",
     "text": [
      "The prediction is 7\n"
     ]
    }
   ],
   "source": [
    "prediction = clf.predict([X_test[3]])\n",
    "print(f\"The prediction is {prediction.item()}\")"
   ]
  },
  {
   "cell_type": "markdown",
   "id": "95898aa0-c99c-4142-9574-7fb2537c2bb4",
   "metadata": {},
   "source": [
    "#### Occlude the image\n",
    "Now, we are experimenting with the occlusion technique by setting the pixel values of one part of the image to 0 (black color).  \n",
    "Upon observation, it seems that the top-left part of the number might be important for the model to classify whether the image is a 1 or a 7.  \n",
    "We will now cover that part in the image.  "
   ]
  },
  {
   "cell_type": "code",
   "execution_count": 33,
   "id": "593376ea-0370-4b7f-8b05-f4531361d6f7",
   "metadata": {},
   "outputs": [
    {
     "data": {
      "image/png": "[encoded data removed]",
      "text/plain": [
       "<Figure size 800x400 with 2 Axes>"
      ]
     },
     "metadata": {},
     "output_type": "display_data"
    }
   ],
   "source": [
    "original_image = np.array(X_test[8])\n",
    "\n",
    "# Define the size of the square for occlusion and its position\n",
    "occlusion_size = 7  \n",
    "square_x = 6  \n",
    "square_y = 6  \n",
    "\n",
    "# Create an occluded version of the image by replacing the square with zeros (black)\n",
    "occluded_image = original_image.copy()\n",
    "occluded_image[square_y:square_y+occlusion_size, square_x:square_x+occlusion_size] = 0\n",
    "\n",
    "# Display the original and occluded images\n",
    "plt.figure(figsize=(8, 4))\n",
    "plt.subplot(1, 2, 1)\n",
    "plt.imshow(original_image, cmap='gray')\n",
    "plt.title(\"Original Image\")\n",
    "plt.axis('off')\n",
    "\n",
    "plt.subplot(1, 2, 2)\n",
    "plt.imshow(occluded_image, cmap='gray')\n",
    "plt.title(\"Occluded Image\")\n",
    "plt.axis('off')\n",
    "\n",
    "plt.show()"
   ]
  },
  {
   "cell_type": "markdown",
   "id": "dd27d9bc-07e7-4640-b5f5-53a1024fd0be",
   "metadata": {},
   "source": [
    "Now that we have the occluded version on the right, let's check the prediction to see if it has changed."
   ]
  },
  {
   "cell_type": "code",
   "execution_count": 34,
   "id": "bf91d48b-192a-467c-ba24-966df1143148",
   "metadata": {},
   "outputs": [
    {
     "name": "stdout",
     "output_type": "stream",
     "text": [
      "Prediction of original image: 7\n"
     ]
    }
   ],
   "source": [
    "print(f\"Prediction of original image: {clf.predict([original_image]).item()}\")"
   ]
  },
  {
   "cell_type": "code",
   "execution_count": 35,
   "id": "c0266ff5-4939-427d-8562-7e4a9b2149e0",
   "metadata": {},
   "outputs": [
    {
     "name": "stdout",
     "output_type": "stream",
     "text": [
      "Prediction of occluded image: 1\n"
     ]
    }
   ],
   "source": [
    "print(f\"Prediction of occluded image: {clf.predict([occluded_image]).item()}\")"
   ]
  },
  {
   "cell_type": "code",
   "execution_count": 37,
   "id": "694281d6-7fb8-4e29-9f37-4f7b2ae7d5c3",
   "metadata": {},
   "outputs": [
    {
     "name": "stdout",
     "output_type": "stream",
     "text": [
      "Ground truth: 7\n"
     ]
    }
   ],
   "source": [
    "print(f\"Ground truth: {y_test.iloc[8]}\")"
   ]
  },
  {
   "cell_type": "markdown",
   "id": "74df7fcb-96e8-4c0d-83d6-0bc139fd188f",
   "metadata": {},
   "source": [
    "**Comment:** As expected, the occluded part of the image is important for the model to differentiate between 1 and 7 as the prediction has been changed for the occlusion version."
   ]
  },
  {
   "cell_type": "markdown",
   "id": "a689126f-fa62-45d9-b915-4cfd04996c0a",
   "metadata": {},
   "source": [
    "## Exercise 1.1 <a name=\"Ex11\"></a>\n",
    "How about the other parts? Are they important for the model to make predictions?\n",
    "\n",
    "**Task:** Choose another part to occlude and observe if it changes the model's prediction. In your opinion do the results make sense and why (not)?"
   ]
  },
  {
   "cell_type": "code",
   "execution_count": 1,
   "id": "e7b05474-1d24-4624-bbb5-6c98b305a3ff",
   "metadata": {},
   "outputs": [],
   "source": [
    "#Your own implementation and your interpretation"
   ]
  },
  {
   "cell_type": "markdown",
   "id": "15fce9c5-739d-4f28-9b35-e845af95ef54",
   "metadata": {},
   "source": [
    "## Exercise 1.2 <a name=\"Ex12\"></a>\n",
    "Is the important part of this image also important in another image?  \n",
    "**Task:** Select another image from the test set with label 7. Occlude the same important part of the number and check for any change in the model's prediction. Interpret the results."
   ]
  },
  {
   "cell_type": "code",
   "execution_count": 2,
   "id": "f0558d4a-c0b1-49ec-88e5-f567786a4290",
   "metadata": {},
   "outputs": [],
   "source": [
    "#Your own implementation and your interpretation"
   ]
  },
  {
   "cell_type": "markdown",
   "id": "e815328b-e142-4f78-ac0f-30a64d2ebcbe",
   "metadata": {},
   "source": [
    "## Exercise 1.3 <a name=\"Ex13\"></a>\n",
    "Practice with different model and different image dataset chosen by your own.  \n",
    "**Task:** Choose your own image dataset, use your own model, and apply this occlusion technique. Interpret the results."
   ]
  },
  {
   "cell_type": "code",
   "execution_count": 20,
   "id": "4e016b8e-1b9a-4e22-af28-af4ae1f7e790",
   "metadata": {},
   "outputs": [],
   "source": [
    "#Your own implementation and your interpretation"
   ]
  },
  {
   "cell_type": "markdown",
   "id": "b3979388-baef-4276-9c79-7ac4f760f4bc",
   "metadata": {},
   "source": [
    "# Exercise 2: LIME <a name=\"Ex2\"></a>"
   ]
  },
  {
   "cell_type": "markdown",
   "id": "0ab12d26-5d4c-4040-a43f-3ed15b94e971",
   "metadata": {},
   "source": [
    "**Task:** Run the example below, you need to install LIME to do it.\n",
    "\n",
    "**Note:** Your results, interpretation, and comments on the results are more important for evaluating the exercises than your code."
   ]
  },
  {
   "cell_type": "markdown",
   "id": "4ffc740e-d446-4f2c-b0ac-c2facadca311",
   "metadata": {},
   "source": [
    "#### Install LIME"
   ]
  },
  {
   "cell_type": "code",
   "execution_count": null,
   "id": "2f026786-3063-49f3-a4a5-c179b296c717",
   "metadata": {},
   "outputs": [],
   "source": [
    "# Run the command below once:\n",
    "!pip install lime"
   ]
  },
  {
   "cell_type": "code",
   "execution_count": 22,
   "id": "22634d22-fb29-4a6b-85b3-5096ab61b107",
   "metadata": {},
   "outputs": [],
   "source": [
    "from lime import lime_image\n",
    "from lime.wrappers.scikit_image import SegmentationAlgorithm\n",
    "# Create a LIME Image Explainer with verbose mode turned off\n",
    "explainer = lime_image.LimeImageExplainer(verbose=False)\n",
    "\n",
    "# Define a segmentation algorithm for LIME (quickshift) with specific parameters\n",
    "# https://scikit-image.org/docs/stable/api/skimage.segmentation.html#skimage.segmentation.quickshift\n",
    "segmenter = SegmentationAlgorithm('quickshift', kernel_size=1, max_dist=1)"
   ]
  },
  {
   "cell_type": "code",
   "execution_count": 29,
   "id": "9b589f61-5f51-45b4-833b-361bc95a9a9f",
   "metadata": {},
   "outputs": [
    {
     "name": "stderr",
     "output_type": "stream",
     "text": [
      "100%|████████████████████████████████████████| 10000/10000 [00:03<00:00, 2933.08it/s]\n"
     ]
    }
   ],
   "source": [
    "new_index = 2\n",
    "#Explain a prediction of an image\n",
    "explanation = explainer.explain_instance(X_test[new_index], \n",
    "                                         classifier_fn = clf.predict_proba, \n",
    "                                         top_labels=10, hide_color=0, num_samples=10000, segmentation_fn=segmenter)"
   ]
  },
  {
   "cell_type": "code",
   "execution_count": 30,
   "id": "622fa5f8-ff8d-4c86-b0d3-548c2df955b0",
   "metadata": {},
   "outputs": [
    {
     "data": {
      "text/plain": [
       "<matplotlib.image.AxesImage at 0x313be45b0>"
      ]
     },
     "execution_count": 30,
     "metadata": {},
     "output_type": "execute_result"
    },
    {
     "data": {
      "image/png": "[encoded data removed]",
      "text/plain": [
       "<Figure size 640x480 with 1 Axes>"
      ]
     },
     "metadata": {},
     "output_type": "display_data"
    }
   ],
   "source": [
    "#get the image with the explanation\n",
    "temp, mask = explanation.get_image_and_mask(y_test.iloc[new_index], num_features=10, hide_rest=False, min_weight = 0.01)\n",
    "#Visualize it\n",
    "plt.imshow(label2rgb(mask,temp, bg_label = 0), interpolation = 'None')"
   ]
  },
  {
   "cell_type": "markdown",
   "id": "31f34ddc-e377-4518-9cec-61a896570f70",
   "metadata": {},
   "source": [
    "**Comment:** The red areas are the important parts identified through LIME explanation. These areas might be important for the model to differentiate between 6 and 8."
   ]
  },
  {
   "cell_type": "markdown",
   "id": "12b57cdf-3775-4816-b838-c9dfad2cf07e",
   "metadata": {},
   "source": [
    "#### Exercise 2.1 <a name=\"Ex21\"></a>\n",
    "**Task:** Use LIME to explain the prediction for the image in the first exercise and determine whether LIME agrees with our occlusion technique. In other words, check if the important areas highlighted by LIME match the areas we've occluded. What do you conclude?"
   ]
  },
  {
   "cell_type": "code",
   "execution_count": 3,
   "id": "3115c1f7-b53e-45a1-bb98-79c3f0829353",
   "metadata": {},
   "outputs": [],
   "source": [
    "#Your own implementation and your interpretation"
   ]
  },
  {
   "cell_type": "markdown",
   "id": "11858752-00a6-4edc-b945-0a902884f895",
   "metadata": {},
   "source": [
    "#### Exercise 2.2: <a name=\"Ex22\"></a>\n",
    "**Task:** Apply LIME to explain the black-box model from the first-week exercise on a tabular dataset. If you don't have that model, simply create and train a new one on one of the tabular datasets in the first week, such as the Diabetes or Cervical Dataset. Interpret the results.  \n",
    "You can answer questions such as:\n",
    "\n",
    "- Which features are important for a positive prediction?  \n",
    "- Which features are important for a negative prediction?  \n",
    "- Which features are not important?  "
   ]
  },
  {
   "cell_type": "code",
   "execution_count": 4,
   "id": "ea0d9cb1-2218-4999-aabc-5042e8e10404",
   "metadata": {},
   "outputs": [],
   "source": [
    "#Your own implementation and your interpretation"
   ]
  },
  {
   "cell_type": "markdown",
   "id": "ce321ce0-cc40-4436-b40b-8b9dbada44de",
   "metadata": {},
   "source": [
    "#### Exercise 2.3 <a name=\"Ex23\"></a>\n",
    "**Task:** Apply LIME on textual data. You choose your own model and own data. Interpret your results.  \n",
    "You can answer questions such as:\n",
    "Which words are important for the model? Do you agree on that?"
   ]
  },
  {
   "cell_type": "code",
   "execution_count": 28,
   "id": "b8c1ca11-65a0-4ee7-9546-78096c7f9751",
   "metadata": {},
   "outputs": [],
   "source": [
    "#Your own implementation and your interpretation"
   ]
  },
  {
   "cell_type": "code",
   "execution_count": null,
   "id": "50c127c8-439c-4215-b509-6ba95b5715a9",
   "metadata": {},
   "outputs": [],
   "source": []
  }
 ],
 "metadata": {
  "kernelspec": {
   "display_name": "xai",
   "language": "python",
   "name": "python3"
  },
  "language_info": {
   "codemirror_mode": {
    "name": "ipython",
    "version": 3
   },
   "file_extension": ".py",
   "mimetype": "text/x-python",
   "name": "python",
   "nbconvert_exporter": "python",
   "pygments_lexer": "ipython3",
   "version": "3.10.9"
  }
 },
 "nbformat": 4,
 "nbformat_minor": 5
}
