{
 "cells": [
  {
   "cell_type": "markdown",
   "id": "34490462-c961-4fa6-b631-07c41e4c92e7",
   "metadata": {},
   "source": [
    "# Week 6: Interpretable Models\n",
    "Author: Van Bach Nguyen, licensed under the Creative Commons Attribution 3.0 Unported License https://creativecommons.org/licenses/by/3.0/  "
   ]
  },
  {
   "cell_type": "markdown",
   "id": "c54a8ce6-42ca-4e04-817e-438cb00cb1fc",
   "metadata": {
    "tags": []
   },
   "source": [
    "# Table of contents\n",
    "- [Exercise 1: Decision Tree (ID3)](#Ex1)  \n",
    "- [Exercise 2: Surrogate model](#Ex2)  \n",
    "- [Exercise 3: Trepan](#Ex2)  "
   ]
  },
  {
   "cell_type": "markdown",
   "id": "8f06228f-1c3b-4abc-83c9-d3a66168e5ea",
   "metadata": {},
   "source": [
    "# Exercise 1: Decision Tree (2 Points)<a name=\"Ex1\"></a>\n",
    "\n",
    "\n",
    "In this exercise, implement the ID3 algorithm from slide 26 of the lecture slides. Add comments corresponding to each step before the line of code executing that step (Step 1, 2 is enough). You can introduce additional functions, but do not change the existing ones."
   ]
  },
  {
   "cell_type": "code",
   "execution_count": 1,
   "id": "a2ae2966-e6c3-4076-9520-55eb77c117f9",
   "metadata": {},
   "outputs": [],
   "source": [
    "#Your implementation\n",
    "#Step 1\n",
    "def ID3(D,A):\n",
    "    \"\"\"\n",
    "    Dataset D, Attributes A\n",
    "\n",
    "    Result: Decision tree\n",
    "    \"\"\"\n",
    "    \n",
    "#Your implementation"
   ]
  },
  {
   "cell_type": "markdown",
   "id": "119fea2d-945f-4d60-b7b1-9c62953f1918",
   "metadata": {},
   "source": [
    "Given the dataset:"
   ]
  },
  {
   "cell_type": "code",
   "execution_count": 676,
   "id": "c8e09d65-30ef-41a1-89bb-5b9d22192238",
   "metadata": {},
   "outputs": [
    {
     "data": {
      "text/html": [
       "<div>\n",
       "<style scoped>\n",
       "    .dataframe tbody tr th:only-of-type {\n",
       "        vertical-align: middle;\n",
       "    }\n",
       "\n",
       "    .dataframe tbody tr th {\n",
       "        vertical-align: top;\n",
       "    }\n",
       "\n",
       "    .dataframe thead th {\n",
       "        text-align: right;\n",
       "    }\n",
       "</style>\n",
       "<table border=\"1\" class=\"dataframe\">\n",
       "  <thead>\n",
       "    <tr style=\"text-align: right;\">\n",
       "      <th></th>\n",
       "      <th>Age</th>\n",
       "      <th>Income</th>\n",
       "      <th>Previous Purchase</th>\n",
       "      <th>Buy Product</th>\n",
       "    </tr>\n",
       "  </thead>\n",
       "  <tbody>\n",
       "    <tr>\n",
       "      <th>0</th>\n",
       "      <td>Young</td>\n",
       "      <td>High</td>\n",
       "      <td>No</td>\n",
       "      <td>No</td>\n",
       "    </tr>\n",
       "    <tr>\n",
       "      <th>1</th>\n",
       "      <td>Young</td>\n",
       "      <td>Low</td>\n",
       "      <td>Yes</td>\n",
       "      <td>Yes</td>\n",
       "    </tr>\n",
       "    <tr>\n",
       "      <th>2</th>\n",
       "      <td>Young</td>\n",
       "      <td>Medium</td>\n",
       "      <td>Yes</td>\n",
       "      <td>Yes</td>\n",
       "    </tr>\n",
       "    <tr>\n",
       "      <th>3</th>\n",
       "      <td>Middle</td>\n",
       "      <td>High</td>\n",
       "      <td>No</td>\n",
       "      <td>Yes</td>\n",
       "    </tr>\n",
       "    <tr>\n",
       "      <th>4</th>\n",
       "      <td>Middle</td>\n",
       "      <td>Medium</td>\n",
       "      <td>No</td>\n",
       "      <td>No</td>\n",
       "    </tr>\n",
       "  </tbody>\n",
       "</table>\n",
       "</div>"
      ],
      "text/plain": [
       "      Age  Income Previous Purchase Buy Product\n",
       "0   Young    High                No          No\n",
       "1   Young     Low               Yes         Yes\n",
       "2   Young  Medium               Yes         Yes\n",
       "3  Middle    High                No         Yes\n",
       "4  Middle  Medium                No          No"
      ]
     },
     "execution_count": 676,
     "metadata": {},
     "output_type": "execute_result"
    }
   ],
   "source": [
    "import pandas as pd\n",
    "toy_dataset = pd.read_csv(\"dataset/toy.csv\")\n",
    "toy_dataset.head()"
   ]
  },
  {
   "cell_type": "markdown",
   "id": "8b4fc162-d36b-446e-98dd-70e5cf47ff5d",
   "metadata": {},
   "source": [
    "**Task:** Apply the ID3 algorithm that you implemented to the provided tiny dataset and print the results in the form of a decision tree or a list of rules."
   ]
  },
  {
   "cell_type": "code",
   "execution_count": null,
   "id": "49327f2b-b540-47f6-a6b1-ae1fe0a9868f",
   "metadata": {},
   "outputs": [],
   "source": [
    "#executing the line of code below should print the decision tree\n",
    "ID3(toy_dataset, toy_dataset.columns)"
   ]
  },
  {
   "cell_type": "markdown",
   "id": "c245f2d0-50d0-4bf5-b782-d87564968e32",
   "metadata": {},
   "source": [
    "**Task**: Verify your decision tree using the scikit-learn library."
   ]
  },
  {
   "cell_type": "code",
   "execution_count": null,
   "id": "9be2487b-9807-4486-8874-455b20c7c57f",
   "metadata": {},
   "outputs": [],
   "source": [
    "#Your code"
   ]
  },
  {
   "cell_type": "markdown",
   "id": "36fc1e1f-ba46-45af-9113-b061478867f1",
   "metadata": {},
   "source": [
    "\n",
    "# Exercise 2: Surrogate models (2 Points)<a name=\"Ex2\"></a>\n",
    "\n",
    "In this exercise, we will practice the idea of the surrogate model - trepan by implementing the student-teacher model approach. For this current exercise, we don't need to implement the algorithm exactly, but just the key idea of it.\n",
    "\n",
    "**Task:**\n",
    "- Apply the key idea from lecture slide 30; the black model is already given in the folder.\n",
    "- Build an interpretable model by using the blackbox model as an oracle (by generating training data).\n",
    "  - Calculate fidelity and accuracy.\n",
    "  - Interpret the results.\n",
    "- Compare your interpretable model built on the original dataset without an oracle. What is your conclusion?\n"
   ]
  },
  {
   "cell_type": "markdown",
   "id": "a86cdba4-195a-44cf-8973-160261f5a9ec",
   "metadata": {},
   "source": [
    "Run the code below is to load the black_box model and check its performance on MNIST dataset"
   ]
  },
  {
   "cell_type": "code",
   "execution_count": 677,
   "id": "a2e52afd-dc88-45b8-8de6-9a9e975fb826",
   "metadata": {},
   "outputs": [
    {
     "data": {
      "image/png": "[encoded data removed]",
      "text/plain": [
       "<Figure size 800x600 with 1 Axes>"
      ]
     },
     "metadata": {},
     "output_type": "display_data"
    },
    {
     "name": "stdout",
     "output_type": "stream",
     "text": [
      "Classification Report:\n",
      "               precision    recall  f1-score   support\n",
      "\n",
      "           0       0.97      0.98      0.98      1343\n",
      "           1       0.99      0.99      0.99      1600\n",
      "           2       0.96      0.97      0.96      1380\n",
      "           3       0.96      0.96      0.96      1433\n",
      "           4       0.94      0.98      0.96      1295\n",
      "           5       0.95      0.96      0.96      1273\n",
      "           6       0.98      0.98      0.98      1396\n",
      "           7       0.97      0.97      0.97      1503\n",
      "           8       0.96      0.93      0.94      1357\n",
      "           9       0.96      0.94      0.95      1420\n",
      "\n",
      "    accuracy                           0.96     14000\n",
      "   macro avg       0.96      0.96      0.96     14000\n",
      "weighted avg       0.96      0.96      0.96     14000\n",
      "\n"
     ]
    }
   ],
   "source": [
    "# Import necessary libraries\n",
    "from sklearn.datasets import fetch_openml\n",
    "from sklearn.model_selection import train_test_split\n",
    "import matplotlib.pyplot as plt\n",
    "import seaborn as sns\n",
    "from sklearn.metrics import confusion_matrix, classification_report\n",
    "import pickle\n",
    "\n",
    "# Load the MNIST dataset from scikit-learn (or you can download it from other sources)\n",
    "mnist = fetch_openml('mnist_784', parser='auto')\n",
    "X = mnist.data\n",
    "y = mnist.target\n",
    "\n",
    "#split data\n",
    "X_train, X_test, y_train, y_test = train_test_split(X, y, test_size=0.2, random_state=42)\n",
    "\n",
    "#Load model\n",
    "file = open('model/bb.pkl', 'rb')\n",
    "black_box = pickle.load(file)\n",
    "y_pred = black_box.predict(X_test)\n",
    "\n",
    "\n",
    "conf_matrix = confusion_matrix(y_test, y_pred)\n",
    "\n",
    "# Create a classification report\n",
    "class_report = classification_report(y_test, y_pred)\n",
    "\n",
    "# Visualize the confusion matrix as a heatmap\n",
    "plt.figure(figsize=(8, 6))\n",
    "sns.heatmap(conf_matrix, annot=True, fmt='d', cmap='Blues', cbar=False)\n",
    "plt.xlabel('Predicted Labels')\n",
    "plt.ylabel('Actual Labels')\n",
    "plt.title('Confusion Matrix')\n",
    "plt.show()\n",
    "\n",
    "# Print the classification report\n",
    "print(\"Classification Report:\\n\", class_report)\n"
   ]
  },
  {
   "cell_type": "markdown",
   "id": "d4b7f8df-08b7-4e96-aef8-5b9f1ab71e27",
   "metadata": {},
   "source": [
    "**Comment:** Pretty high accuracy"
   ]
  },
  {
   "cell_type": "code",
   "execution_count": null,
   "id": "96318048-79aa-452c-9c2d-f8ec847832d2",
   "metadata": {},
   "outputs": [],
   "source": [
    "#your implementation"
   ]
  },
  {
   "cell_type": "markdown",
   "id": "013d3178-6f65-4215-a942-ad2c32719d6a",
   "metadata": {},
   "source": [
    "# Exercise 3: Trepan (1 Bonus point)<a name=\"Ex3\"></a>\n",
    "Implement Trepan algorithm in the original paper and apply it to exercise 2 by replacing the student model with Trepan.  \n",
    "The algorithm is available [here](https://proceedings.neurips.cc/paper/1995/file/45f31d16b1058d586fc3be7207b58053-Paper.pdf) in Table 1"
   ]
  },
  {
   "cell_type": "code",
   "execution_count": null,
   "id": "9cc22d83-b6a4-4866-aa61-0a42d5382870",
   "metadata": {},
   "outputs": [],
   "source": []
  }
 ],
 "metadata": {
  "kernelspec": {
   "display_name": "Python 3 (ipykernel)",
   "language": "python",
   "name": "python3"
  },
  "language_info": {
   "codemirror_mode": {
    "name": "ipython",
    "version": 3
   },
   "file_extension": ".py",
   "mimetype": "text/x-python",
   "name": "python",
   "nbconvert_exporter": "python",
   "pygments_lexer": "ipython3",
   "version": "3.10.9"
  }
 },
 "nbformat": 4,
 "nbformat_minor": 5
}
