{
 "cells": [
  {
   "cell_type": "markdown",
   "id": "0ed045d8-5486-42f5-b0fd-5333fcc2fb9a",
   "metadata": {},
   "source": [
    "# Week 5: Feature Attribution: Shapley Value and SHAP\n",
    "Author: Van Bach Nguyen, licensed under the Creative Commons Attribution 3.0 Unported License https://creativecommons.org/licenses/by/3.0/  \n",
    "Based on: https://github.com/marcotcr/lime"
   ]
  },
  {
   "cell_type": "markdown",
   "id": "f66c40e0-4099-466c-b8b5-032c2323083c",
   "metadata": {},
   "source": [
    "# Table of contents\n",
    "- [Exercise 1: Shapley Value (3 Points)](#Ex1)  \n",
    "- [Exercise 2: SHAP (3 Points)](#Ex2)  \n"
   ]
  },
  {
   "cell_type": "markdown",
   "id": "87b2f2d5-65c6-461b-8f03-4931bd76d610",
   "metadata": {},
   "source": [
    "# Exercise 1: Shapley value calculation (3 Points + 1 bonus point) <a name=\"Ex1\"></a>\n",
    "**Description:**  In this exercise, we will practice calculating Shapley values using Python.\n",
    "\n",
    "**Goal:** The goal of this exercise is to gain a deep understanding of Shapley Value calculation and learn how to implement it.\n",
    "\n",
    "**Task:** Implement question 1 from the Theoretical Exercise in the exercise sheet to verify your calculation results.\n",
    "\n",
    "**Note:** \n",
    "- Your results, interpretation, and comments on the results are more important for evaluating the exercises than your code.\n",
    "- The bonus point is an extra point."
   ]
  },
  {
   "cell_type": "markdown",
   "id": "cc293687-2b66-454f-a228-3e6696b9c872",
   "metadata": {
    "tags": []
   },
   "source": [
    "#### Exercise 1.1: Grade function (1 Point)\n",
    "The *grade* function should take a group of students as input and return the grade for this group.  \n",
    "**Input:** a group of students  \n",
    "**Output:** The grade for the group of students.    \n",
    "**For example:** *grade([A, B, C])* should return 10.\n",
    "\n",
    "**Task:** Implement the *grade* function with the description below "
   ]
  },
  {
   "cell_type": "code",
   "execution_count": 157,
   "id": "6906da23-52af-4247-aead-40d4ed464483",
   "metadata": {
    "tags": []
   },
   "outputs": [],
   "source": [
    "#Implement the function grade with the description below\n",
    "def grade(students):\n",
    "    \"\"\"\n",
    "    Calculate the grade for a group of collaborated students.\n",
    "\n",
    "    Args:\n",
    "        students (list): A list of student names who collaborated on the assignment.\n",
    "\n",
    "    Returns:\n",
    "        int: The calculated grade for the group.\n",
    "\n",
    "    The function takes a list of student names who collaborated on a project and calculates\n",
    "    the group's grade based on their performance and contributions.\n",
    "    \"\"\""
   ]
  },
  {
   "cell_type": "markdown",
   "id": "8bfdfd00-dc27-4f53-b36d-825b530faf0e",
   "metadata": {},
   "source": [
    "**Task:** Print the grades for all 8 possible groups of students. They should correspond to the exercise's description."
   ]
  },
  {
   "cell_type": "code",
   "execution_count": null,
   "id": "e68a808d-f745-4585-b452-6c60825741b1",
   "metadata": {},
   "outputs": [],
   "source": [
    "#Your code"
   ]
  },
  {
   "cell_type": "markdown",
   "id": "883a7ab9-07e4-4840-8dcf-4a686e632dc6",
   "metadata": {},
   "source": [
    "#### Exercise 1.2: Implement the Shapley value calculation (2 Points)\n",
    "The *calculate_shapley* function should take the *grade* function and a student (e.g \"A\") as inputs and return the Shapley value for this student with respect to the *grade* function.  \n",
    "**Input:** \n",
    "- *func:* The grade function used for calculating the Shapley value.  \n",
    "- *Student:* The student for whom the Shapley value needs to be calculated.\n",
    "\n",
    "**Output:** Shapley value of the student.  \n",
    "**For example:** *calculate_shapley(grade, \"A\")* = V where V is the Shapley value of student \"A\" with respect to the provided *func* grade function."
   ]
  },
  {
   "cell_type": "markdown",
   "id": "0560ce68-bc28-421c-8310-58eb70c84d7a",
   "metadata": {},
   "source": [
    "**Task:** Implement the function *calculate_shapley* with the description below "
   ]
  },
  {
   "cell_type": "code",
   "execution_count": 158,
   "id": "3f04cec1-0af6-4467-b906-0fdbf52afcdc",
   "metadata": {},
   "outputs": [],
   "source": [
    "#Implement the function with the description below\n",
    "def calculate_shapley(func=grade, student=\"A\"):\n",
    "    \"\"\"\n",
    "    Calculate the Shapley value of a student using a given grade function.\n",
    "\n",
    "    Args:\n",
    "        func (function): The grade function that returns the grade for a group of students.\n",
    "        student (str): The student for whom the Shapley value is to be calculated (e.g., \"A\", \"B\", or \"C\").\n",
    "\n",
    "    Returns:\n",
    "        float: The Shapley value of the specified student.\n",
    "\n",
    "    This function takes a grade function and a student as inputs and calculates the Shapley value\n",
    "    for the given student based on the provided grade function.\n",
    "    \"\"\""
   ]
  },
  {
   "cell_type": "markdown",
   "id": "193b4c93-d70f-4898-af58-ae7d7363a939",
   "metadata": {},
   "source": [
    "**Task:** Use the implemented *calculate_shapley* function to calculate the Shapley value for each student (A, B, C) and print the results."
   ]
  },
  {
   "cell_type": "code",
   "execution_count": null,
   "id": "7667085c-c7dc-4a1f-a440-40393665c39e",
   "metadata": {},
   "outputs": [],
   "source": [
    "#Your code"
   ]
  },
  {
   "cell_type": "markdown",
   "id": "d0f9fb65-a16e-49dc-b801-0673a34bfe2b",
   "metadata": {},
   "source": [
    "**Task:** Compare the results from the calculate_shapley function with your manual calculations in Theoretical Exercise Question 1. The results should match; if they do not, please review your calculations/implementations."
   ]
  },
  {
   "cell_type": "markdown",
   "id": "26e1dda6-1cf3-410a-a9ab-f791b33991af",
   "metadata": {},
   "source": [
    "### Exercise 1.2 (1 bonus point)\n",
    "Each student represents a feature, and the function represents a model.\n",
    "Extend the *calculate_shapley* function to take a (sklearn) machine learning model trained on a dataset, a feature, and a dataset as inputs, and calculate the Shapley value for the specified feature. "
   ]
  },
  {
   "cell_type": "code",
   "execution_count": null,
   "id": "031f1a25-954c-4f60-9f9f-7ae9ea17e9a1",
   "metadata": {},
   "outputs": [],
   "source": [
    "#your own implementation\n",
    "def calculate_shapley_extended(model, dataset, feature):\n",
    "    \"\"\"\n",
    "    Calculate the Shapley value of a feature given a model trained on a dataset.\n",
    "\n",
    "    Args:\n",
    "        model: A sklearn machine learning model.\n",
    "        dataset: The dataset on which the model was trained.\n",
    "        feature (str): The feature in the dataset for which the Shapley value is to be calculated.\n",
    "\n",
    "    Returns:\n",
    "        float: The Shapley value of the specified feature.\n",
    "    \"\"\""
   ]
  },
  {
   "cell_type": "markdown",
   "id": "b3979388-baef-4276-9c79-7ac4f760f4bc",
   "metadata": {},
   "source": [
    "# Exercise 2: SHAP (3 Points) <a name=\"Ex2\"></a>"
   ]
  },
  {
   "cell_type": "markdown",
   "id": "0ab12d26-5d4c-4040-a43f-3ed15b94e971",
   "metadata": {},
   "source": [
    "**Description:**  In this exercise, we will practice using the SHAP library.\n",
    "\n",
    "**Goal:** To get familiar with SHAP library and Kernel SHAP\n",
    "\n",
    "**Task:** Use SHAP to explain a model's prediction.\n",
    "\n",
    "**Note:** Your results, interpretation, and comments on the results are more important for evaluating the exercises than your code."
   ]
  },
  {
   "cell_type": "markdown",
   "id": "4ffc740e-d446-4f2c-b0ac-c2facadca311",
   "metadata": {},
   "source": [
    "Install SHAP by executing the command below:"
   ]
  },
  {
   "cell_type": "code",
   "execution_count": null,
   "id": "2f026786-3063-49f3-a4a5-c179b296c717",
   "metadata": {},
   "outputs": [],
   "source": [
    "# Run the command below once:\n",
    "!pip install shap"
   ]
  },
  {
   "cell_type": "markdown",
   "id": "1a1fab23-006d-4708-b9ce-2f572a9ebd90",
   "metadata": {},
   "source": [
    "The code below trains a random forest model on the Diabetes dataset:"
   ]
  },
  {
   "cell_type": "code",
   "execution_count": 127,
   "id": "f7ea5815-5c33-4657-81c1-c5d13d0fdbd2",
   "metadata": {},
   "outputs": [],
   "source": [
    "from sklearn.ensemble import RandomForestClassifier\n",
    "import pandas as pd\n",
    "from sklearn.model_selection import train_test_split\n",
    "df = pd.read_csv(\"dataset/diabetes.csv\")\n",
    "X = df.drop('Outcome', axis=1)\n",
    "y = df['Outcome']\n",
    "#Split data into train/test sets\n",
    "X_train, X_test, y_train, y_test = train_test_split(X, y, test_size=0.2, random_state=42)\n",
    "#Train a RF model\n",
    "clf = RandomForestClassifier(max_depth=3, random_state=0)\n",
    "clf = clf.fit(X_train, y_train)"
   ]
  },
  {
   "cell_type": "markdown",
   "id": "437bdfae-68c5-414b-885f-72fb5c3422aa",
   "metadata": {},
   "source": [
    "Predict an instance, e.g. instance 12th."
   ]
  },
  {
   "cell_type": "code",
   "execution_count": 169,
   "id": "59201d17-a378-4c6e-a5ad-64da603bf138",
   "metadata": {},
   "outputs": [
    {
     "name": "stdout",
     "output_type": "stream",
     "text": [
      "the label is 0\n"
     ]
    }
   ],
   "source": [
    "instance_id = 12\n",
    "print(f\"the label is {clf.predict([X_test.iloc[instance_id]]).item()}\")"
   ]
  },
  {
   "cell_type": "markdown",
   "id": "634a022c-1555-4dd8-937e-d9a5e9d838ab",
   "metadata": {},
   "source": [
    "#### Exercise 2.1 (2 Points)\n",
    "Why does the model give that prediction? We can use Kernel SHAP in the SHAP library to explain it.\n",
    "\n",
    "**Task:** Given the trained random forest classifier *clf*, explain the prediction of the model for the 12th instance in X_test using Kernel SHAP in the SHAP library.  \n",
    "**Note:** You can use the force_plot function to visualize the SHAP values, and you should provide your interpretation of the plot."
   ]
  },
  {
   "cell_type": "code",
   "execution_count": null,
   "id": "52e01906-79c0-4a65-9259-c39348680ef7",
   "metadata": {},
   "outputs": [],
   "source": [
    "# Your implementation"
   ]
  },
  {
   "cell_type": "markdown",
   "id": "3c8aec41-9c2f-426a-9f0d-cc9c0e92c6ee",
   "metadata": {},
   "source": [
    "#### Exercise 2.2 (1 Point)\n",
    "SHAP claims to have three desirable properties. One of them is local accuracy $f(x)\\approx g(x')$\n",
    "\n",
    "**Task:** Verify the local accuracy property of this explanation. In other words, calculate the $f(x)$ and $g(x')$ and compare them.\n"
   ]
  },
  {
   "cell_type": "code",
   "execution_count": null,
   "id": "7d82044b-4a46-41e5-a57a-c9972f50731a",
   "metadata": {},
   "outputs": [],
   "source": [
    "# Your implementation"
   ]
  }
 ],
 "metadata": {
  "kernelspec": {
   "display_name": "Python 3 (ipykernel)",
   "language": "python",
   "name": "python3"
  },
  "language_info": {
   "codemirror_mode": {
    "name": "ipython",
    "version": 3
   },
   "file_extension": ".py",
   "mimetype": "text/x-python",
   "name": "python",
   "nbconvert_exporter": "python",
   "pygments_lexer": "ipython3",
   "version": "3.10.9"
  }
 },
 "nbformat": 4,
 "nbformat_minor": 5
}
